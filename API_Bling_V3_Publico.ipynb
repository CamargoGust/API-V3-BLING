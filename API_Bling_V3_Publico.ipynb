{
  "nbformat": 4,
  "nbformat_minor": 0,
  "metadata": {
    "colab": {
      "provenance": []
    },
    "kernelspec": {
      "name": "python3",
      "display_name": "Python 3"
    },
    "language_info": {
      "name": "python"
    }
  },
  "cells": [
    {
      "cell_type": "markdown",
      "source": [
        "Trabalho para realizar a conexão na plataforma do Bling:\n",
        "A versão 3 de sua API utiliza do mecanismo de autentificação Oauth2, infelizmente a empresa não tem suporte para desenvolver, devivo a isso decidio compartilhar esse trabalho em minha rede. Espero que esse código ajude a todos."
      ],
      "metadata": {
        "id": "RvNoLPwQccBx"
      }
    },
    {
      "cell_type": "code",
      "source": [
        "#Bibliotecas:\n",
        "import requests\n",
        "from requests_oauthlib import OAuth2Session\n",
        "import base64"
      ],
      "metadata": {
        "id": "QpP2GMMHHlPG"
      },
      "execution_count": null,
      "outputs": []
    },
    {
      "cell_type": "code",
      "source": [
        "#Função que serve para recer os código de acesso e renovação de acesso.\n",
        "def getToken(code, client_id, client_secret, redirect_response, refresh_token):\n",
        "    #print('1')\n",
        "    authorization_code = code\n",
        "    token_url = 'https://www.bling.com.br/Api/v3/oauth/token'\n",
        "    credentials = f'{client_id}:{client_secret}'\n",
        "    base64_credentials = base64.b64encode(credentials.encode('utf-8')).decode('utf-8')\n",
        "    if (refresh_token == None): #(Processo para pegar o primeiro código de acesso)\n",
        "        #print('2')\n",
        "        #Parâmetros para a solicitação POST\n",
        "        data = {'grant_type': 'authorization_code', 'code': authorization_code,}\n",
        "        #Cabeçalhos da solicitação POST\n",
        "        headers = {'Content-Type': 'application/x-www-form-urlencoded', 'Authorization': f'Basic {base64_credentials}', 'Accept': 'application/json'}\n",
        "        response = requests.post(token_url, data=data, headers=headers)\n",
        "        # Manipulação de erros\n",
        "        if response.status_code == 200:\n",
        "            token_data = response.json()\n",
        "            #print(response.status_code)\n",
        "            #print('Token de acesso:', token_data)\n",
        "        else:\n",
        "            print(f\"Erro na solicitação: {response.status_code}\")\n",
        "            print(response.text)\n",
        "        #print('3')\n",
        "        #token = oauth.fetch_token(token_url, authorization_response=redirect_response, client_secret=client_secret)\n",
        "        #print('4')\n",
        "        return token_data\n",
        "    if (refresh_token != None): #(Processo de Renovação do código de acesso)\n",
        "        #print('Refresh 1')\n",
        "        data = {'grant_type': 'refresh_token','refresh_token': refresh_token,}\n",
        "        #Cabeçalhos da solicitação POST\n",
        "        headers = {'Content-Type': 'application/x-www-form-urlencoded', 'Authorization': f'Basic {base64_credentials}','Accept': 'application/json',}\n",
        "        response = requests.post(token_url, data=data, headers=headers)\n",
        "        if response.status_code == 200:\n",
        "            token_data = response.json()\n",
        "            #print(response.status_code)\n",
        "            #print('Token de refresh:', token_data)\n",
        "        else:\n",
        "            print(f\"Erro na solicitação: {response.status_code}\")\n",
        "            print(response.text)\n",
        "        #token = oauth.fetch_token(token_url, authorization_response=redirect_response, client_secret=client_secret)\n",
        "        return token_data"
      ],
      "metadata": {
        "id": "fg8IwxhcE8F6"
      },
      "execution_count": null,
      "outputs": []
    },
    {
      "cell_type": "code",
      "source": [
        "#Primeiro Código a rodar:\n",
        "#Substitua essas informações pelas suas credenciais e configurações específicas da API\n",
        "client_id = 'COLOQUE O SEU CÓDIGO DE CLIENTE'\n",
        "client_secret = 'COLOQUE O SEU CÓDIGO DE CLIENTE SECRETO'\n",
        "redirect_uri = 'https://www.google.com.br/?hl=pt-BR' #Optei por usar a do google, não me perguntem o motivo, deixem cadastrado igual na página de API.\n",
        "\n",
        "#URL de autorização fornecida pelo serviço OAuth (Link do Convite)\n",
        "authorization_base_url = 'COLOQUE O SEU CÓDIGO DE CONVITE, SE UTILIZOU O GOOGLE TAMBÉM VAI SER DIRECIONADO PARA O GOOGLE.'"
      ],
      "metadata": {
        "id": "4yhjccDLSCGJ"
      },
      "execution_count": null,
      "outputs": []
    },
    {
      "cell_type": "code",
      "source": [
        "#Segundo Código a Rodar:\n",
        "#Crie uma sessão OAuth2 sem especificar o escopo\n",
        "oauth = OAuth2Session(client_id, redirect_uri=redirect_uri)\n",
        "\n",
        "#Gere a URL de autorização\n",
        "authorization_url, state = oauth.authorization_url(authorization_base_url)\n",
        "\n",
        "#Exiba a URL de autorização\n",
        "print('Por favor, vá para', authorization_url)\n",
        "\n",
        "#Solicite que o usuário insira a URL de redirecionamento\n",
        "redirect_response = input('\\n\\n\\nCole aqui a URL de redirecionamento:\\n\\n\\n ')\n",
        "\n",
        "#Separando o Code\n",
        "aux = redirect_response\n",
        "x = redirect_response.find('code=')\n",
        "code = redirect_response[x:x+100]\n",
        "y = code.find('&')\n",
        "code = code[5:y]\n",
        "\n",
        "\n",
        "#Solicita as credênciais de acesso.\n",
        "refresh_token = None #Essa linha só vai se repetir agora.\n",
        "token = getToken(code, client_id, client_secret, redirect_response, refresh_token)\n",
        "access_token = token['access_token']\n",
        "refresh_token = token['refresh_token']"
      ],
      "metadata": {
        "id": "c5yiwYg4KQl7"
      },
      "execution_count": null,
      "outputs": []
    },
    {
      "cell_type": "code",
      "source": [
        "#Exemplo de utilização da API pedidos da plataforma.\n",
        "api_url = 'https://www.bling.com.br/Api/v3/pedidos/vendas'\n",
        "\n",
        "# Cabeçalhos da solicitação com o token de acesso\n",
        "headers = {'Authorization': f'Bearer {access_token}', 'Content-Type': 'application/json',}\n",
        "\n",
        "# Faça a solicitação GET com os cabeçalhos de autenticação\n",
        "response = requests.get(api_url, headers=headers)\n",
        "\n",
        "# Manipulação de erros e processamento da resposta\n",
        "if response.status_code == 200:\n",
        "    dados_api = response.json()\n",
        "    #print('Dados da API:', dados_api)\n",
        "else:\n",
        "    print(f\"Erro na solicitação: {response.status_code}\")\n",
        "    print(response.text)\n",
        "\n",
        "#Gera um novo token (ISSO VAI PRECISAR FICAR EM TODAS AS APLICAÇÕES!!!)\n",
        "token = getToken(code, client_id, client_secret, redirect_response, refresh_token)\n",
        "access_token = token['access_token']\n",
        "refresh_token = token['refresh_token']\n",
        "dados_api"
      ],
      "metadata": {
        "id": "hLXNYNuEKYvP"
      },
      "execution_count": null,
      "outputs": []
    }
  ]
}